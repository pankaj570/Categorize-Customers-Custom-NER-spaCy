{
 "cells": [
  {
   "cell_type": "markdown",
   "metadata": {},
   "source": [
    "# Project that involves \n",
    "- Custom NER, Sentiment Analysis for Customer Transactions.\n",
    "- Identifying Customer Category, \n",
    "- Writing alerts to an Excel file.\n",
    "- Creating a dashboard for analysis using Python\n",
    "\n",
    "## Required Tech Stack for this project\n",
    "- pandas\n",
    "- transformers\n",
    "- tf-keras\n",
    "- openpyxl\n",
    "- streamlit\n",
    "- seaborn"
   ]
  },
  {
   "cell_type": "code",
   "execution_count": 1,
   "metadata": {},
   "outputs": [],
   "source": [
    "#Remove comments and run to install the required package\n",
    "#%pip install pandas"
   ]
  },
  {
   "cell_type": "code",
   "execution_count": 2,
   "metadata": {},
   "outputs": [],
   "source": [
    "#%pip install transformers"
   ]
  },
  {
   "cell_type": "code",
   "execution_count": 3,
   "metadata": {},
   "outputs": [],
   "source": [
    "#%pip install tf-keras"
   ]
  },
  {
   "cell_type": "code",
   "execution_count": 4,
   "metadata": {},
   "outputs": [],
   "source": [
    "#%pip install openpyxl"
   ]
  },
  {
   "cell_type": "code",
   "execution_count": 5,
   "metadata": {},
   "outputs": [],
   "source": [
    "#%pip install streamlit"
   ]
  },
  {
   "cell_type": "code",
   "execution_count": 6,
   "metadata": {},
   "outputs": [],
   "source": [
    "#%pip install seaborn"
   ]
  },
  {
   "cell_type": "markdown",
   "metadata": {},
   "source": [
    "# Generating Customer's Transactions Data and writing to file 'customer_transactions.csv;"
   ]
  },
  {
   "cell_type": "code",
   "execution_count": 7,
   "metadata": {},
   "outputs": [
    {
     "name": "stdout",
     "output_type": "stream",
     "text": [
      "CSV file 'customer_transactions.csv' generated successfully!\n"
     ]
    }
   ],
   "source": [
    "import pandas as pd\n",
    "import random\n",
    "from datetime import datetime, timedelta\n",
    "\n",
    "#customer names and feedback\n",
    "customer_names = ['John Doe', 'Jane Smith', 'Bob Johnson', 'Alice Brown', 'Charlie Clark', 'David White', 'Eva Green', 'Frank Harris', 'Grace King', 'Henry Lee']\n",
    "customer_feedback = [\n",
    "    'Great product, would buy again!',\n",
    "    'Not satisfied with quality.',\n",
    "    'Fast delivery, happy with purchase.',\n",
    "    'Excellent customer service.',\n",
    "    'Product arrived late.',\n",
    "    'Loved it, will recommend!',\n",
    "    'Not what I expected.',\n",
    "    'Very satisfied!',\n",
    "    'Worth the price!',\n",
    "    'Quality is great.'\n",
    "]\n",
    "\n",
    "# Function to generate a random date within a given range\n",
    "def generate_random_date(start_date, end_date):\n",
    "    delta = end_date - start_date\n",
    "    random_days = random.randint(0, delta.days)\n",
    "    return start_date + timedelta(days=random_days)\n",
    "\n",
    "# Generate the data\n",
    "data = []\n",
    "transaction_id = 1\n",
    "start_date = datetime(2025, 3, 1)\n",
    "end_date = datetime(2025, 3, 10)\n",
    "\n",
    "for _ in range(100):  # Generating 100 transactions\n",
    "    transaction_date = generate_random_date(start_date, end_date).strftime('%Y-%m-%d')\n",
    "    customer_name = random.choice(customer_names)\n",
    "    feedback = random.choice(customer_feedback)\n",
    "    transaction_amount = round(random.uniform(10.0, 1000.0), 2)  # Random amount between 10 and 1000\n",
    "    data.append([transaction_id, customer_name, feedback, transaction_amount, transaction_date])\n",
    "    transaction_id += 1\n",
    "\n",
    "# Create a DataFrame from the generated data\n",
    "df = pd.DataFrame(data, columns=['Transaction_ID', 'Customer_Name', 'Customer_Feedback', 'Transaction_Amount', 'Transaction_Date'])\n",
    "\n",
    "# Save the DataFrame to a CSV file\n",
    "df.to_csv('customer_transactions.csv', index=False)\n",
    "\n",
    "print(\"CSV file 'customer_transactions.csv' generated successfully!\")\n"
   ]
  },
  {
   "cell_type": "markdown",
   "metadata": {},
   "source": [
    "# Load customer transaction data from CSV file : 'customer_transactions.csv'"
   ]
  },
  {
   "cell_type": "code",
   "execution_count": 8,
   "metadata": {},
   "outputs": [
    {
     "name": "stdout",
     "output_type": "stream",
     "text": [
      "   Transaction_ID Customer_Name                Customer_Feedback  \\\n",
      "0               1   David White                 Worth the price!   \n",
      "1               2     Eva Green      Not satisfied with quality.   \n",
      "2               3   David White            Product arrived late.   \n",
      "3               4    Grace King  Great product, would buy again!   \n",
      "4               5    Jane Smith      Not satisfied with quality.   \n",
      "\n",
      "   Transaction_Amount Transaction_Date  \n",
      "0              252.27       2025-03-02  \n",
      "1              149.25       2025-03-02  \n",
      "2              614.01       2025-03-06  \n",
      "3              117.75       2025-03-02  \n",
      "4              230.84       2025-03-02  \n"
     ]
    }
   ],
   "source": [
    "import pandas as pd\n",
    "\n",
    "# Load customer transaction data from CSV\n",
    "data = pd.read_csv('customer_transactions.csv')\n",
    "\n",
    "# Display the first few rows to understand the structure\n",
    "print(data.head())\n"
   ]
  },
  {
   "cell_type": "markdown",
   "metadata": {},
   "source": [
    "## \n",
    "- Prepared Custom NER Traning Data.\n",
    "- Load pre-trained spaCy model\n",
    "- Adding level(person, product) for custom NER\n",
    "- Again traning the model with custom NER data and model persit to local disk"
   ]
  },
  {
   "cell_type": "code",
   "execution_count": 9,
   "metadata": {},
   "outputs": [
    {
     "name": "stderr",
     "output_type": "stream",
     "text": [
      "c:\\Users\\pankaj\\anaconda3\\envs\\jupyterbook-env\\lib\\site-packages\\spacy\\training\\iob_utils.py:149: UserWarning: [W030] Some entities could not be aligned in the text \"Great service, very satisfied with the laptop I pu...\" with entities \"[(45, 51, 'PRODUCT'), (65, 69, 'PERSON')]\". Use `spacy.training.offsets_to_biluo_tags(nlp.make_doc(text), entities)` to check the alignment. Misaligned entities ('-') will be ignored during training.\n",
      "  warnings.warn(\n",
      "c:\\Users\\pankaj\\anaconda3\\envs\\jupyterbook-env\\lib\\site-packages\\spacy\\training\\iob_utils.py:149: UserWarning: [W030] Some entities could not be aligned in the text \"The phone was defective, and the customer service ...\" with entities \"[(4, 9, 'PRODUCT'), (40, 58, 'SERVICE')]\". Use `spacy.training.offsets_to_biluo_tags(nlp.make_doc(text), entities)` to check the alignment. Misaligned entities ('-') will be ignored during training.\n",
      "  warnings.warn(\n",
      "c:\\Users\\pankaj\\anaconda3\\envs\\jupyterbook-env\\lib\\site-packages\\spacy\\training\\iob_utils.py:149: UserWarning: [W030] Some entities could not be aligned in the text \"Love the camera I bought from Mary!\" with entities \"[(13, 19, 'PRODUCT'), (24, 28, 'PERSON')]\". Use `spacy.training.offsets_to_biluo_tags(nlp.make_doc(text), entities)` to check the alignment. Misaligned entities ('-') will be ignored during training.\n",
      "  warnings.warn(\n"
     ]
    },
    {
     "name": "stdout",
     "output_type": "stream",
     "text": [
      "Epoch 0, Losses: {'tok2vec': 0.0, 'tagger': 0.0, 'parser': 0.0, 'ner': np.float32(19.228182)}\n",
      "Epoch 1, Losses: {'tok2vec': 0.0, 'tagger': 0.0, 'parser': 0.0, 'ner': np.float32(20.123474)}\n",
      "Epoch 2, Losses: {'tok2vec': 0.0, 'tagger': 0.0, 'parser': 0.0, 'ner': np.float32(15.516696)}\n",
      "Epoch 3, Losses: {'tok2vec': 0.0, 'tagger': 0.0, 'parser': 0.0, 'ner': np.float32(4.1308875)}\n",
      "Epoch 4, Losses: {'tok2vec': 0.0, 'tagger': 0.0, 'parser': 0.0, 'ner': np.float32(1.8334129)}\n",
      "Epoch 5, Losses: {'tok2vec': 0.0, 'tagger': 0.0, 'parser': 0.0, 'ner': np.float32(1.7428774)}\n",
      "Epoch 6, Losses: {'tok2vec': 0.0, 'tagger': 0.0, 'parser': 0.0, 'ner': np.float32(0.9193235)}\n",
      "Epoch 7, Losses: {'tok2vec': 0.0, 'tagger': 0.0, 'parser': 0.0, 'ner': np.float32(0.68696815)}\n",
      "Epoch 8, Losses: {'tok2vec': 0.0, 'tagger': 0.0, 'parser': 0.0, 'ner': np.float32(0.78849506)}\n",
      "Epoch 9, Losses: {'tok2vec': 0.0, 'tagger': 0.0, 'parser': 0.0, 'ner': np.float32(0.050858505)}\n"
     ]
    }
   ],
   "source": [
    "import spacy\n",
    "from spacy.training import Example\n",
    "\n",
    "TRAINING_DATA = [\n",
    "    (\"Great service, very satisfied with the laptop I purchased from John.\", {\"entities\": [(45, 51, \"PRODUCT\"), (65, 69, \"PERSON\")]}),\n",
    "    (\"The phone was defective, and the customer service was poor.\", {\"entities\": [(4, 9, \"PRODUCT\"), (40, 58, \"SERVICE\")]}),\n",
    "    (\"Love the camera I bought from Mary!\", {\"entities\": [(13, 19, \"PRODUCT\"), (24, 28, \"PERSON\")]}),\n",
    "]\n",
    "\n",
    "# Load pre-trained SpaCy model\n",
    "nlp = spacy.load('en_core_web_sm')\n",
    "\n",
    "# Add new labels for custom entities\n",
    "ner = nlp.get_pipe(\"ner\")\n",
    "ner.add_label(\"PRODUCT\")\n",
    "ner.add_label(\"PERSON\")\n",
    "\n",
    "# Prepare the training data\n",
    "train_data = TRAINING_DATA\n",
    "\n",
    "# Train the model\n",
    "optimizer = nlp.begin_training()\n",
    "for epoch in range(10):\n",
    "    losses = {}\n",
    "    for text, annotations in train_data:\n",
    "        doc = nlp.make_doc(text)\n",
    "        example = Example.from_dict(doc, annotations)\n",
    "        nlp.update([example], losses=losses)\n",
    "    print(f\"Epoch {epoch}, Losses: {losses}\")\n",
    "\n",
    "# Save the trained model\n",
    "nlp.to_disk(\"custom_ner_model\")\n"
   ]
  },
  {
   "cell_type": "markdown",
   "metadata": {},
   "source": [
    "##\n",
    "- Load spaCy model again \n",
    "- Process 'Customer_Feedback' from data frame and extract entites"
   ]
  },
  {
   "cell_type": "code",
   "execution_count": 10,
   "metadata": {},
   "outputs": [
    {
     "name": "stderr",
     "output_type": "stream",
     "text": [
      "c:\\Users\\pankaj\\anaconda3\\envs\\jupyterbook-env\\lib\\site-packages\\spacy\\pipeline\\attributeruler.py:149: UserWarning: [W036] The component 'matcher' does not have any patterns defined.\n",
      "  matches = self.matcher(doc, allow_missing=True, as_spans=False)\n",
      "c:\\Users\\pankaj\\anaconda3\\envs\\jupyterbook-env\\lib\\site-packages\\spacy\\pipeline\\lemmatizer.py:211: UserWarning: [W108] The rule-based lemmatizer did not find POS annotation for one or more tokens. Check that your pipeline includes components that assign token.pos, typically 'tagger'+'attribute_ruler' or 'morphologizer'.\n",
      "  warnings.warn(Warnings.W108)\n"
     ]
    },
    {
     "name": "stdout",
     "output_type": "stream",
     "text": [
      "Entities in Feedback: Worth the price!\n",
      "Entities in Feedback: Not satisfied with quality.\n",
      "Entities in Feedback: Product arrived late.\n",
      "Entities in Feedback: Great product, would buy again!\n",
      "Entities in Feedback: Not satisfied with quality.\n",
      "Entities in Feedback: Not what I expected.\n",
      "Entities in Feedback: Fast delivery, happy with purchase.\n",
      "Entities in Feedback: Worth the price!\n",
      "Entities in Feedback: Very satisfied!\n",
      "Entities in Feedback: Product arrived late.\n",
      "Entities in Feedback: Very satisfied!\n",
      "Entities in Feedback: Not satisfied with quality.\n",
      "Entities in Feedback: Loved it, will recommend!\n",
      "Entities in Feedback: Excellent customer service.\n",
      "Entities in Feedback: Loved it, will recommend!\n",
      "Entities in Feedback: Fast delivery, happy with purchase.\n",
      "Entities in Feedback: Not satisfied with quality.\n",
      "Entities in Feedback: Very satisfied!\n",
      "Entities in Feedback: Great product, would buy again!\n",
      "Entities in Feedback: Very satisfied!\n",
      "Entities in Feedback: Quality is great.\n",
      "Entities in Feedback: Quality is great.\n",
      "Entities in Feedback: Not satisfied with quality.\n",
      "Entities in Feedback: Not what I expected.\n",
      "Entities in Feedback: Not what I expected.\n",
      "Entities in Feedback: Product arrived late.\n",
      "Entities in Feedback: Product arrived late.\n",
      "Entities in Feedback: Great product, would buy again!\n",
      "Entities in Feedback: Very satisfied!\n",
      "Entities in Feedback: Great product, would buy again!\n",
      "Entities in Feedback: Great product, would buy again!\n",
      "Entities in Feedback: Excellent customer service.\n",
      "Entities in Feedback: Worth the price!\n",
      "Entities in Feedback: Not satisfied with quality.\n",
      "Entities in Feedback: Fast delivery, happy with purchase.\n",
      "Entities in Feedback: Great product, would buy again!\n",
      "Entities in Feedback: Quality is great.\n",
      "Entities in Feedback: Excellent customer service.\n",
      "Entities in Feedback: Excellent customer service.\n",
      "Entities in Feedback: Product arrived late.\n",
      "Entities in Feedback: Loved it, will recommend!\n",
      "Entities in Feedback: Fast delivery, happy with purchase.\n",
      "Entities in Feedback: Very satisfied!\n",
      "Entities in Feedback: Excellent customer service.\n",
      "Entities in Feedback: Very satisfied!\n",
      "Entities in Feedback: Quality is great.\n",
      "Entities in Feedback: Great product, would buy again!\n",
      "Entities in Feedback: Product arrived late.\n",
      "Entities in Feedback: Quality is great.\n",
      "Entities in Feedback: Not satisfied with quality.\n",
      "Entities in Feedback: Loved it, will recommend!\n",
      "Entities in Feedback: Loved it, will recommend!\n",
      "Entities in Feedback: Very satisfied!\n",
      "Entities in Feedback: Quality is great.\n",
      "Entities in Feedback: Loved it, will recommend!\n",
      "Entities in Feedback: Excellent customer service.\n",
      "Entities in Feedback: Product arrived late.\n",
      "Entities in Feedback: Great product, would buy again!\n",
      "Entities in Feedback: Worth the price!\n",
      "Entities in Feedback: Quality is great.\n",
      "Entities in Feedback: Not what I expected.\n",
      "Entities in Feedback: Loved it, will recommend!\n",
      "Entities in Feedback: Very satisfied!\n",
      "Entities in Feedback: Quality is great.\n",
      "Entities in Feedback: Quality is great.\n",
      "Entities in Feedback: Worth the price!\n",
      "Entities in Feedback: Fast delivery, happy with purchase.\n",
      "Entities in Feedback: Product arrived late.\n",
      "Entities in Feedback: Loved it, will recommend!\n",
      "Entities in Feedback: Excellent customer service.\n",
      "Entities in Feedback: Product arrived late.\n",
      "Entities in Feedback: Excellent customer service.\n",
      "Entities in Feedback: Excellent customer service.\n",
      "Entities in Feedback: Excellent customer service.\n",
      "Entities in Feedback: Not what I expected.\n",
      "Entities in Feedback: Excellent customer service.\n",
      "Entities in Feedback: Product arrived late.\n",
      "Entities in Feedback: Loved it, will recommend!\n",
      "Entities in Feedback: Excellent customer service.\n",
      "Entities in Feedback: Very satisfied!\n",
      "Entities in Feedback: Fast delivery, happy with purchase.\n",
      "Entities in Feedback: Product arrived late.\n",
      "Entities in Feedback: Not satisfied with quality.\n",
      "Entities in Feedback: Great product, would buy again!\n",
      "Entities in Feedback: Excellent customer service.\n",
      "Entities in Feedback: Not what I expected.\n",
      "Entities in Feedback: Quality is great.\n",
      "Entities in Feedback: Excellent customer service.\n",
      "Entities in Feedback: Not satisfied with quality.\n",
      "Entities in Feedback: Great product, would buy again!\n",
      "Entities in Feedback: Not what I expected.\n",
      "Entities in Feedback: Very satisfied!\n",
      "Entities in Feedback: Great product, would buy again!\n",
      "Entities in Feedback: Not what I expected.\n",
      "Entities in Feedback: Not what I expected.\n",
      "Entities in Feedback: Loved it, will recommend!\n",
      "Entities in Feedback: Quality is great.\n",
      "Entities in Feedback: Worth the price!\n",
      "Entities in Feedback: Product arrived late.\n",
      "Entities in Feedback: Excellent customer service.\n"
     ]
    }
   ],
   "source": [
    "# Load the trained model\n",
    "nlp = spacy.load(\"custom_ner_model\")\n",
    "\n",
    "# Process customer feedback and extract entities\n",
    "for feedback in data['Customer_Feedback']:\n",
    "    doc = nlp(feedback)\n",
    "    print(\"Entities in Feedback:\", feedback)\n",
    "    for ent in doc.ents:\n",
    "        print(f\"Entity: {ent.text}, Label: {ent.label_}\")\n"
   ]
  },
  {
   "cell_type": "markdown",
   "metadata": {},
   "source": [
    "##\n",
    "- Loading pre-trained sentimate analysis pipeline\n",
    "- adding 'Sentiment(Positive, Negative, Netural) attribute in data frame "
   ]
  },
  {
   "cell_type": "code",
   "execution_count": 11,
   "metadata": {},
   "outputs": [
    {
     "name": "stderr",
     "output_type": "stream",
     "text": [
      "c:\\Users\\pankaj\\anaconda3\\envs\\jupyterbook-env\\lib\\site-packages\\tqdm\\auto.py:21: TqdmWarning: IProgress not found. Please update jupyter and ipywidgets. See https://ipywidgets.readthedocs.io/en/stable/user_install.html\n",
      "  from .autonotebook import tqdm as notebook_tqdm\n",
      "No model was supplied, defaulted to distilbert/distilbert-base-uncased-finetuned-sst-2-english and revision 714eb0f (https://huggingface.co/distilbert/distilbert-base-uncased-finetuned-sst-2-english).\n",
      "Using a pipeline without specifying a model name and revision in production is not recommended.\n"
     ]
    },
    {
     "name": "stdout",
     "output_type": "stream",
     "text": [
      "WARNING:tensorflow:From c:\\Users\\pankaj\\anaconda3\\envs\\jupyterbook-env\\lib\\site-packages\\tf_keras\\src\\losses.py:2976: The name tf.losses.sparse_softmax_cross_entropy is deprecated. Please use tf.compat.v1.losses.sparse_softmax_cross_entropy instead.\n",
      "\n"
     ]
    },
    {
     "name": "stderr",
     "output_type": "stream",
     "text": [
      "Device set to use cpu\n"
     ]
    },
    {
     "name": "stdout",
     "output_type": "stream",
     "text": [
      "                 Customer_Feedback Sentiment\n",
      "0                 Worth the price!  POSITIVE\n",
      "1      Not satisfied with quality.  NEGATIVE\n",
      "2            Product arrived late.  NEGATIVE\n",
      "3  Great product, would buy again!  POSITIVE\n",
      "4      Not satisfied with quality.  NEGATIVE\n"
     ]
    }
   ],
   "source": [
    "from transformers import pipeline\n",
    "\n",
    "# Load pre-trained sentiment analysis pipeline\n",
    "sentiment_pipeline = pipeline(\"sentiment-analysis\")\n",
    "\n",
    "# Apply sentiment analysis to customer feedback\n",
    "data['Sentiment'] = data['Customer_Feedback'].apply(lambda x: sentiment_pipeline(x)[0]['label'])\n",
    "\n",
    "# Display feedback and sentiment\n",
    "print(data[['Customer_Feedback', 'Sentiment']].head())\n"
   ]
  },
  {
   "cell_type": "markdown",
   "metadata": {},
   "source": [
    "##\n",
    "- Prepared Customer Category(High Value, Medium Value, Low Value) based on transaction amount value\n"
   ]
  },
  {
   "cell_type": "code",
   "execution_count": 12,
   "metadata": {},
   "outputs": [
    {
     "name": "stdout",
     "output_type": "stream",
     "text": [
      "  Customer_Name  Transaction_Amount Customer_Category\n",
      "0   David White              252.27         Low Value\n",
      "1     Eva Green              149.25         Low Value\n",
      "2   David White              614.01      Medium Value\n",
      "3    Grace King              117.75         Low Value\n",
      "4    Jane Smith              230.84         Low Value\n"
     ]
    }
   ],
   "source": [
    "def categorize_customer(row):\n",
    "    if row['Transaction_Amount'] > 1000:\n",
    "        return 'High Value'\n",
    "    elif row['Transaction_Amount'] > 500:\n",
    "        return 'Medium Value'\n",
    "    else:\n",
    "        return 'Low Value'\n",
    "\n",
    "data['Customer_Category'] = data.apply(categorize_customer, axis=1)\n",
    "\n",
    "# Display categorized data\n",
    "print(data[['Customer_Name', 'Transaction_Amount', 'Customer_Category']].head())\n"
   ]
  },
  {
   "cell_type": "markdown",
   "metadata": {},
   "source": [
    "## \n",
    "- Create 'customer_alerts.xlsx' reports file based on customer category with 'High Value' or Sentiment with 'NEGATIVE'"
   ]
  },
  {
   "cell_type": "code",
   "execution_count": 13,
   "metadata": {},
   "outputs": [],
   "source": [
    "# Create alerts for negative sentiment or high-value customers\n",
    "alerts = data[(data['Sentiment'] == 'NEGATIVE') | (data['Customer_Category'] == 'High Value')]\n",
    "\n",
    "# Write alerts to Excel\n",
    "alerts.to_excel('customer_alerts.xlsx', index=False)\n"
   ]
  },
  {
   "cell_type": "markdown",
   "metadata": {},
   "source": [
    "##\n",
    "- Plots Graph report for Negative and Positive Sentiment as Bar charts\n",
    "- Plots Pie charts for Customer category "
   ]
  },
  {
   "cell_type": "code",
   "execution_count": 14,
   "metadata": {},
   "outputs": [
    {
     "name": "stderr",
     "output_type": "stream",
     "text": [
      "2025-03-09 14:35:24.485 WARNING streamlit.runtime.scriptrunner_utils.script_run_context: Thread 'MainThread': missing ScriptRunContext! This warning can be ignored when running in bare mode.\n",
      "2025-03-09 14:35:24.679 \n",
      "  \u001b[33m\u001b[1mWarning:\u001b[0m to view this Streamlit app on a browser, run it with the following\n",
      "  command:\n",
      "\n",
      "    streamlit run c:\\Users\\pankaj\\anaconda3\\envs\\jupyterbook-env\\lib\\site-packages\\ipykernel_launcher.py [ARGUMENTS]\n",
      "2025-03-09 14:35:24.679 Thread 'MainThread': missing ScriptRunContext! This warning can be ignored when running in bare mode.\n",
      "2025-03-09 14:35:24.685 Thread 'MainThread': missing ScriptRunContext! This warning can be ignored when running in bare mode.\n",
      "2025-03-09 14:35:24.685 Thread 'MainThread': missing ScriptRunContext! This warning can be ignored when running in bare mode.\n",
      "2025-03-09 14:35:24.715 Thread 'MainThread': missing ScriptRunContext! This warning can be ignored when running in bare mode.\n",
      "2025-03-09 14:35:24.770 Thread 'MainThread': missing ScriptRunContext! This warning can be ignored when running in bare mode.\n",
      "2025-03-09 14:35:24.775 Thread 'MainThread': missing ScriptRunContext! This warning can be ignored when running in bare mode.\n",
      "2025-03-09 14:35:24.776 Thread 'MainThread': missing ScriptRunContext! This warning can be ignored when running in bare mode.\n",
      "2025-03-09 14:35:24.776 Thread 'MainThread': missing ScriptRunContext! This warning can be ignored when running in bare mode.\n",
      "2025-03-09 14:35:24.792 Thread 'MainThread': missing ScriptRunContext! This warning can be ignored when running in bare mode.\n",
      "2025-03-09 14:35:24.818 Thread 'MainThread': missing ScriptRunContext! This warning can be ignored when running in bare mode.\n",
      "2025-03-09 14:35:24.819 Thread 'MainThread': missing ScriptRunContext! This warning can be ignored when running in bare mode.\n",
      "2025-03-09 14:35:24.820 Thread 'MainThread': missing ScriptRunContext! This warning can be ignored when running in bare mode.\n",
      "2025-03-09 14:35:24.820 Thread 'MainThread': missing ScriptRunContext! This warning can be ignored when running in bare mode.\n",
      "2025-03-09 14:35:24.831 Thread 'MainThread': missing ScriptRunContext! This warning can be ignored when running in bare mode.\n",
      "2025-03-09 14:35:24.832 Thread 'MainThread': missing ScriptRunContext! This warning can be ignored when running in bare mode.\n"
     ]
    },
    {
     "data": {
      "text/plain": [
       "DeltaGenerator()"
      ]
     },
     "execution_count": 14,
     "metadata": {},
     "output_type": "execute_result"
    },
    {
     "data": {
      "image/png": "[encoded data removed]",
      "text/plain": [
       "<Figure size 640x480 with 1 Axes>"
      ]
     },
     "metadata": {},
     "output_type": "display_data"
    },
    {
     "data": {
      "image/png": "[encoded data removed]",
      "text/plain": [
       "<Figure size 640x480 with 1 Axes>"
      ]
     },
     "metadata": {},
     "output_type": "display_data"
    }
   ],
   "source": [
    "import streamlit as st\n",
    "import matplotlib.pyplot as plt\n",
    "import seaborn as sns\n",
    "\n",
    "# Title of the dashboard\n",
    "st.title(\"Customer Feedback Analysis Dashboard\")\n",
    "\n",
    "# Sentiment Distribution Plot\n",
    "sentiment_counts = data['Sentiment'].value_counts()\n",
    "\n",
    "# Plot sentiment distribution\n",
    "st.subheader('Sentiment Distribution')\n",
    "fig, ax = plt.subplots()\n",
    "sentiment_counts.plot(kind='bar', ax=ax)\n",
    "ax.set_xlabel('Sentiment')\n",
    "ax.set_ylabel('Count')\n",
    "st.pyplot(fig)\n",
    "\n",
    "# Customer Categories Plot\n",
    "category_counts = data['Customer_Category'].value_counts()\n",
    "\n",
    "# Plot customer categories\n",
    "st.subheader('Customer Category Distribution')\n",
    "fig2, ax2 = plt.subplots()\n",
    "category_counts.plot(kind='pie', ax=ax2, autopct='%1.1f%%')\n",
    "ax2.set_ylabel('')\n",
    "st.pyplot(fig2)\n",
    "\n",
    "# Show DataFrame with Alerts\n",
    "st.subheader('Customer Alerts')\n",
    "alerts_df = pd.read_excel('customer_alerts.xlsx')\n",
    "st.dataframe(alerts_df)\n"
   ]
  }
 ],
 "metadata": {
  "kernelspec": {
   "display_name": "jupyterbook-env",
   "language": "python",
   "name": "python3"
  },
  "language_info": {
   "codemirror_mode": {
    "name": "ipython",
    "version": 3
   },
   "file_extension": ".py",
   "mimetype": "text/x-python",
   "name": "python",
   "nbconvert_exporter": "python",
   "pygments_lexer": "ipython3",
   "version": "3.9.21"
  }
 },
 "nbformat": 4,
 "nbformat_minor": 2
}
